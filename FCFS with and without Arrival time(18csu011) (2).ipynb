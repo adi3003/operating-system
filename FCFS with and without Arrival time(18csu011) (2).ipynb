{
 "cells": [
  {
   "cell_type": "markdown",
   "metadata": {},
   "source": [
    "# Without Arrival Time"
   ]
  },
  {
   "cell_type": "code",
   "execution_count": 3,
   "metadata": {},
   "outputs": [
    {
     "name": "stdout",
     "output_type": "stream",
     "text": [
      " 1\t\t22\t 0\t\t 22\n",
      "Average waiting time = 0.0\n",
      "Average turn around time = 5.5\n",
      " 2\t\t16\t 22\t\t 38\n",
      "Average waiting time = 5.5\n",
      "Average turn around time = 15.0\n",
      " 3\t\t8\t 38\t\t 46\n",
      "Average waiting time = 15.0\n",
      "Average turn around time = 26.5\n",
      " 4\t\t12\t 46\t\t 58\n",
      "Average waiting time = 26.5\n",
      "Average turn around time = 41.0\n"
     ]
    }
   ],
   "source": [
    "def WaitingTime(processes, n, btime, wtime): \n",
    "    wtime[0] = 0\n",
    "    for i in range(1, n ): \n",
    "        wtime[i] = btime[i-1] + wtime[i-1]  \n",
    "        \n",
    "def TurnAroundTime(processes, n, btime, wtime, tatime): \n",
    "    for i in range(n): \n",
    "        tatime[i] = btime[i] + wtime[i]\n",
    "        \n",
    "def findavgTime( processes, n, btime): \n",
    "  \n",
    "    wtime = [0]*n \n",
    "    tatime = [0]*n  \n",
    "    total_wtime = 0\n",
    "    total_tatime = 0\n",
    "    \n",
    "    WaitingTime(processes, n, btime, wtime) \n",
    "    TurnAroundTime(processes, n, btime, wtime, tatime)\n",
    "    \n",
    "   \n",
    "    \n",
    "    for i in range(n):\n",
    "        total_wtime = total_wtime + wtime[i] \n",
    "        total_tatime = total_tatime + tatime[i] \n",
    "        print(\" \" + str(i + 1) + \"\\t\\t\" + str(btime[i]) + \"\\t \" + str(wtime[i]) + \"\\t\\t \" + str(tatime[i]))  \n",
    "        \n",
    "        print( \"Average waiting time = \"+ str(total_wtime / n)) \n",
    "        print(\"Average turn around time = \"+ str(total_tatime / n))\n",
    "        \n",
    "if __name__ ==\"__main__\": \n",
    "      \n",
    "    processes = [ 15,19,13,21] \n",
    "    n = len(processes) \n",
    "  \n",
    "    \n",
    "    burst_time = [22, 16, 8, 12] \n",
    "  \n",
    "    findavgTime(processes, n, burst_time) "
   ]
  },
  {
   "cell_type": "markdown",
   "metadata": {},
   "source": [
    "# With Arrival Time"
   ]
  },
  {
   "cell_type": "code",
   "execution_count": 4,
   "metadata": {},
   "outputs": [
    {
     "name": "stdout",
     "output_type": "stream",
     "text": [
      "  1 \t\t 15 \t\t 4 \t\t 0 \t\t  15 \t\t  19\n",
      "  2 \t\t 20 \t\t 6 \t\t 9 \t\t  29 \t\t  35\n",
      "  3 \t\t 21 \t\t 16 \t\t 19 \t\t  40 \t\t  56\n",
      "  4 \t\t 25 \t\t 90 \t\t 0 \t\t  25 \t\t  115\n",
      "  5 \t\t 27 \t\t 9 \t\t 72 \t\t  99 \t\t  108\n",
      "Average waiting time = 20.00000 \n",
      "\n",
      "Average turn around time =  41.6\n"
     ]
    }
   ],
   "source": [
    "def findWaitingTime(processes, n, bt, wt, at):  \n",
    "    cpu_time = [0] * n  \n",
    "    cpu_time[0] = 0\n",
    "    wt[0] = 0\n",
    "    for i in range(1, n):  \n",
    "        cpu_time[i] = (cpu_time[i-1] + bt[i-1])    \n",
    "        wt[i] = cpu_time[i]-at[i]  \n",
    "        if (wt[i] < 0): \n",
    "            wt[i] = 0\n",
    "            \n",
    "def findTurnAroundTime(processes, n, bt, wt, tat):  \n",
    "    for i in range(n): \n",
    "        tat[i] = bt[i] + wt[i]  \n",
    "    \n",
    "def findavgTime(processes, n, bt, at):  \n",
    "    wt = [0] * n \n",
    "    tat = [0] * n  \n",
    "\n",
    "    findWaitingTime(processes, n, bt, wt, at)  \n",
    "  \n",
    "    findTurnAroundTime(processes, n, bt, wt, tat)  \n",
    "\n",
    "    total_wt = 0\n",
    "    total_tat = 0\n",
    "    for i in range(n): \n",
    "  \n",
    "        total_wt = total_wt + wt[i]  \n",
    "        total_tat = total_tat + tat[i]  \n",
    "        compl_time = tat[i] + at[i]  \n",
    "        print(\" \", i + 1, \"\\t\\t\", bt[i], \"\\t\\t\", at[i], \"\\t\\t\", wt[i], \"\\t\\t \", tat[i], \"\\t\\t \", compl_time)  \n",
    "  \n",
    "    print(\"Average waiting time = %.5f \"%(total_wt /n)) \n",
    "    print(\"\\nAverage turn around time = \", total_tat / n)  \n",
    "\n",
    "processes = [11, 12, 13, 16, 18] \n",
    "n = 5\n",
    "\n",
    "burst_time = [15, 20, 21, 25, 27]  \n",
    "  \n",
    "arrival_time = [4, 6, 16, 90, 9]  \n",
    "  \n",
    "findavgTime(processes, n, burst_time, arrival_time,)"
   ]
  },
  {
   "cell_type": "code",
   "execution_count": null,
   "metadata": {},
   "outputs": [],
   "source": []
  }
 ],
 "metadata": {
  "kernelspec": {
   "display_name": "Python 3",
   "language": "python",
   "name": "python3"
  },
  "language_info": {
   "codemirror_mode": {
    "name": "ipython",
    "version": 3
   },
   "file_extension": ".py",
   "mimetype": "text/x-python",
   "name": "python",
   "nbconvert_exporter": "python",
   "pygments_lexer": "ipython3",
   "version": "3.7.6"
  }
 },
 "nbformat": 4,
 "nbformat_minor": 2
}
